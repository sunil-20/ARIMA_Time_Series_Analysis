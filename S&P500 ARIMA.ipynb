{
 "cells": [
  {
   "cell_type": "markdown",
   "id": "a87eb4ed",
   "metadata": {},
   "source": [
    "## 1.  Import libraries"
   ]
  },
  {
   "cell_type": "code",
   "execution_count": 1,
   "id": "6deaa75c",
   "metadata": {},
   "outputs": [],
   "source": [
    "# import libraries\n",
    "import numpy as np\n",
    "import pandas as pd \n",
    "import scipy \n",
    "import math \n",
    "from datetime import datetime \n",
    "import datetime as dt \n",
    "import matplotlib.pyplot as plt \n",
    "\n",
    "from statsmodels.tsa.stattools import pacf\n",
    "from math import sqrt\n",
    "from statsmodels.tsa.arima_model import ARIMA\n",
    "from statsmodels.tsa.arima.model import ARIMA\n",
    "from sklearn.metrics import mean_squared_error\n",
    "%matplotlib inline\n",
    "\n",
    "import warnings\n",
    "warnings.filterwarnings(\"ignore\")"
   ]
  },
  {
   "cell_type": "markdown",
   "id": "80ca6ee7",
   "metadata": {},
   "source": [
    "## 2. Import data"
   ]
  },
  {
   "cell_type": "code",
   "execution_count": 2,
   "id": "40250275",
   "metadata": {},
   "outputs": [],
   "source": [
    "sp_data = pd.read_csv('SP500_FRED _11_21.csv')"
   ]
  },
  {
   "cell_type": "markdown",
   "id": "83a2dc63",
   "metadata": {},
   "source": [
    "## 3. Initial data inspection"
   ]
  },
  {
   "cell_type": "code",
   "execution_count": 3,
   "id": "c4e815d7",
   "metadata": {},
   "outputs": [
    {
     "data": {
      "text/html": [
       "<div>\n",
       "<style scoped>\n",
       "    .dataframe tbody tr th:only-of-type {\n",
       "        vertical-align: middle;\n",
       "    }\n",
       "\n",
       "    .dataframe tbody tr th {\n",
       "        vertical-align: top;\n",
       "    }\n",
       "\n",
       "    .dataframe thead th {\n",
       "        text-align: right;\n",
       "    }\n",
       "</style>\n",
       "<table border=\"1\" class=\"dataframe\">\n",
       "  <thead>\n",
       "    <tr style=\"text-align: right;\">\n",
       "      <th></th>\n",
       "      <th>date</th>\n",
       "      <th>value</th>\n",
       "    </tr>\n",
       "  </thead>\n",
       "  <tbody>\n",
       "    <tr>\n",
       "      <th>0</th>\n",
       "      <td>10/07/2011</td>\n",
       "      <td>1155.5</td>\n",
       "    </tr>\n",
       "    <tr>\n",
       "      <th>1</th>\n",
       "      <td>10/10/2011</td>\n",
       "      <td>1194.9</td>\n",
       "    </tr>\n",
       "    <tr>\n",
       "      <th>2</th>\n",
       "      <td>10/11/2011</td>\n",
       "      <td>1195.5</td>\n",
       "    </tr>\n",
       "    <tr>\n",
       "      <th>3</th>\n",
       "      <td>10/12/2011</td>\n",
       "      <td>1207.3</td>\n",
       "    </tr>\n",
       "    <tr>\n",
       "      <th>4</th>\n",
       "      <td>10/13/2011</td>\n",
       "      <td>1203.7</td>\n",
       "    </tr>\n",
       "  </tbody>\n",
       "</table>\n",
       "</div>"
      ],
      "text/plain": [
       "         date   value\n",
       "0  10/07/2011  1155.5\n",
       "1  10/10/2011  1194.9\n",
       "2  10/11/2011  1195.5\n",
       "3  10/12/2011  1207.3\n",
       "4  10/13/2011  1203.7"
      ]
     },
     "execution_count": 3,
     "metadata": {},
     "output_type": "execute_result"
    }
   ],
   "source": [
    "sp_data.head()"
   ]
  },
  {
   "cell_type": "code",
   "execution_count": 4,
   "id": "2121b4f5",
   "metadata": {},
   "outputs": [
    {
     "data": {
      "text/plain": [
       "(2609, 2)"
      ]
     },
     "execution_count": 4,
     "metadata": {},
     "output_type": "execute_result"
    }
   ],
   "source": [
    "sp_data.shape"
   ]
  },
  {
   "cell_type": "code",
   "execution_count": 5,
   "id": "859cb875",
   "metadata": {},
   "outputs": [
    {
     "data": {
      "image/png": "[encoded data removed]",
      "text/plain": [
       "<Figure size 432x288 with 1 Axes>"
      ]
     },
     "metadata": {
      "needs_background": "light"
     },
     "output_type": "display_data"
    }
   ],
   "source": [
    "# plotting the value with the raw data\n",
    "sp_data.plot()\n",
    "plt.title('S&P 500 Time series')\n",
    "plt.show()"
   ]
  },
  {
   "cell_type": "code",
   "execution_count": 3,
   "id": "c03531af",
   "metadata": {},
   "outputs": [],
   "source": [
    "#copying the data\n",
    "sp500 = sp_data.copy()"
   ]
  },
  {
   "cell_type": "code",
   "execution_count": 4,
   "id": "dd4d31b4",
   "metadata": {},
   "outputs": [],
   "source": [
    "# changing values to numeric\n",
    "sp500['price'] = pd.to_numeric(sp500.value, errors='coerce')\n",
    "\n",
    "# remove null values from the df\n",
    "sp500.dropna(inplace = True)"
   ]
  },
  {
   "cell_type": "code",
   "execution_count": 5,
   "id": "b8aa6bf1",
   "metadata": {},
   "outputs": [
    {
     "data": {
      "text/plain": [
       "(2516, 3)"
      ]
     },
     "execution_count": 5,
     "metadata": {},
     "output_type": "execute_result"
    }
   ],
   "source": [
    "sp500.shape"
   ]
  },
  {
   "cell_type": "code",
   "execution_count": 6,
   "id": "23d57596",
   "metadata": {},
   "outputs": [
    {
     "data": {
      "text/html": [
       "<div>\n",
       "<style scoped>\n",
       "    .dataframe tbody tr th:only-of-type {\n",
       "        vertical-align: middle;\n",
       "    }\n",
       "\n",
       "    .dataframe tbody tr th {\n",
       "        vertical-align: top;\n",
       "    }\n",
       "\n",
       "    .dataframe thead th {\n",
       "        text-align: right;\n",
       "    }\n",
       "</style>\n",
       "<table border=\"1\" class=\"dataframe\">\n",
       "  <thead>\n",
       "    <tr style=\"text-align: right;\">\n",
       "      <th></th>\n",
       "      <th>date</th>\n",
       "      <th>value</th>\n",
       "      <th>price</th>\n",
       "    </tr>\n",
       "  </thead>\n",
       "  <tbody>\n",
       "    <tr>\n",
       "      <th>0</th>\n",
       "      <td>10/07/2011</td>\n",
       "      <td>1155.5</td>\n",
       "      <td>1155.5</td>\n",
       "    </tr>\n",
       "    <tr>\n",
       "      <th>1</th>\n",
       "      <td>10/10/2011</td>\n",
       "      <td>1194.9</td>\n",
       "      <td>1194.9</td>\n",
       "    </tr>\n",
       "    <tr>\n",
       "      <th>2</th>\n",
       "      <td>10/11/2011</td>\n",
       "      <td>1195.5</td>\n",
       "      <td>1195.5</td>\n",
       "    </tr>\n",
       "    <tr>\n",
       "      <th>3</th>\n",
       "      <td>10/12/2011</td>\n",
       "      <td>1207.3</td>\n",
       "      <td>1207.3</td>\n",
       "    </tr>\n",
       "    <tr>\n",
       "      <th>4</th>\n",
       "      <td>10/13/2011</td>\n",
       "      <td>1203.7</td>\n",
       "      <td>1203.7</td>\n",
       "    </tr>\n",
       "  </tbody>\n",
       "</table>\n",
       "</div>"
      ],
      "text/plain": [
       "         date   value   price\n",
       "0  10/07/2011  1155.5  1155.5\n",
       "1  10/10/2011  1194.9  1194.9\n",
       "2  10/11/2011  1195.5  1195.5\n",
       "3  10/12/2011  1207.3  1207.3\n",
       "4  10/13/2011  1203.7  1203.7"
      ]
     },
     "execution_count": 6,
     "metadata": {},
     "output_type": "execute_result"
    }
   ],
   "source": [
    "sp500.head()"
   ]
  },
  {
   "cell_type": "code",
   "execution_count": 7,
   "id": "f8e9fff9",
   "metadata": {},
   "outputs": [
    {
     "name": "stdout",
     "output_type": "stream",
     "text": [
      "<class 'pandas.core.frame.DataFrame'>\n",
      "Int64Index: 2516 entries, 0 to 2608\n",
      "Data columns (total 3 columns):\n",
      " #   Column  Non-Null Count  Dtype  \n",
      "---  ------  --------------  -----  \n",
      " 0   date    2516 non-null   object \n",
      " 1   value   2516 non-null   float64\n",
      " 2   price   2516 non-null   float64\n",
      "dtypes: float64(2), object(1)\n",
      "memory usage: 78.6+ KB\n"
     ]
    }
   ],
   "source": [
    "sp500.info()"
   ]
  },
  {
   "cell_type": "markdown",
   "id": "922fe0bd",
   "metadata": {},
   "source": [
    "## 4. Plotting the timeseries data"
   ]
  },
  {
   "cell_type": "code",
   "execution_count": 9,
   "id": "65013c07",
   "metadata": {},
   "outputs": [
    {
     "data": {
      "image/png": "[encoded data removed]",
      "text/plain": [
       "<Figure size 432x288 with 1 Axes>"
      ]
     },
     "metadata": {
      "needs_background": "light"
     },
     "output_type": "display_data"
    }
   ],
   "source": [
    "# creating date based index\n",
    "sp500.index = pd.to_datetime(sp500.date)\n",
    "sp500.price.plot()\n",
    "plt.title('S&P 500 Time series')\n",
    "plt.xlabel('Date')\n",
    "plt.show()"
   ]
  },
  {
   "cell_type": "markdown",
   "id": "c98b9041",
   "metadata": {},
   "source": [
    "The data is clearly trending. So, to make it stationary let's plot the differences."
   ]
  },
  {
   "cell_type": "code",
   "execution_count": 10,
   "id": "ea0e795c",
   "metadata": {},
   "outputs": [
    {
     "data": {
      "image/png": "[encoded data removed]",
      "text/plain": [
       "<Figure size 432x288 with 1 Axes>"
      ]
     },
     "metadata": {
      "needs_background": "light"
     },
     "output_type": "display_data"
    }
   ],
   "source": [
    "sp500['diff_1'] = sp500.price - sp500.price.shift(1)\n",
    "sp500.plot(y='diff_1')\n",
    "plt.title('S&P 500 Time Series differences')\n",
    "plt.xlabel('Date')\n",
    "plt.show()"
   ]
  },
  {
   "cell_type": "code",
   "execution_count": 11,
   "id": "193b0994",
   "metadata": {},
   "outputs": [
    {
     "data": {
      "text/html": [
       "<div>\n",
       "<style scoped>\n",
       "    .dataframe tbody tr th:only-of-type {\n",
       "        vertical-align: middle;\n",
       "    }\n",
       "\n",
       "    .dataframe tbody tr th {\n",
       "        vertical-align: top;\n",
       "    }\n",
       "\n",
       "    .dataframe thead th {\n",
       "        text-align: right;\n",
       "    }\n",
       "</style>\n",
       "<table border=\"1\" class=\"dataframe\">\n",
       "  <thead>\n",
       "    <tr style=\"text-align: right;\">\n",
       "      <th></th>\n",
       "      <th>date</th>\n",
       "      <th>value</th>\n",
       "      <th>price</th>\n",
       "      <th>diff_1</th>\n",
       "    </tr>\n",
       "    <tr>\n",
       "      <th>date</th>\n",
       "      <th></th>\n",
       "      <th></th>\n",
       "      <th></th>\n",
       "      <th></th>\n",
       "    </tr>\n",
       "  </thead>\n",
       "  <tbody>\n",
       "    <tr>\n",
       "      <th>2011-10-07</th>\n",
       "      <td>10/07/2011</td>\n",
       "      <td>1155.5</td>\n",
       "      <td>1155.5</td>\n",
       "      <td>NaN</td>\n",
       "    </tr>\n",
       "    <tr>\n",
       "      <th>2011-10-10</th>\n",
       "      <td>10/10/2011</td>\n",
       "      <td>1194.9</td>\n",
       "      <td>1194.9</td>\n",
       "      <td>39.4</td>\n",
       "    </tr>\n",
       "    <tr>\n",
       "      <th>2011-10-11</th>\n",
       "      <td>10/11/2011</td>\n",
       "      <td>1195.5</td>\n",
       "      <td>1195.5</td>\n",
       "      <td>0.6</td>\n",
       "    </tr>\n",
       "    <tr>\n",
       "      <th>2011-10-12</th>\n",
       "      <td>10/12/2011</td>\n",
       "      <td>1207.3</td>\n",
       "      <td>1207.3</td>\n",
       "      <td>11.8</td>\n",
       "    </tr>\n",
       "    <tr>\n",
       "      <th>2011-10-13</th>\n",
       "      <td>10/13/2011</td>\n",
       "      <td>1203.7</td>\n",
       "      <td>1203.7</td>\n",
       "      <td>-3.6</td>\n",
       "    </tr>\n",
       "  </tbody>\n",
       "</table>\n",
       "</div>"
      ],
      "text/plain": [
       "                  date   value   price  diff_1\n",
       "date                                          \n",
       "2011-10-07  10/07/2011  1155.5  1155.5     NaN\n",
       "2011-10-10  10/10/2011  1194.9  1194.9    39.4\n",
       "2011-10-11  10/11/2011  1195.5  1195.5     0.6\n",
       "2011-10-12  10/12/2011  1207.3  1207.3    11.8\n",
       "2011-10-13  10/13/2011  1203.7  1203.7    -3.6"
      ]
     },
     "execution_count": 11,
     "metadata": {},
     "output_type": "execute_result"
    }
   ],
   "source": [
    "sp500.head()"
   ]
  },
  {
   "cell_type": "code",
   "execution_count": 12,
   "id": "daa44aca",
   "metadata": {},
   "outputs": [
    {
     "data": {
      "text/plain": [
       "Text(0.5, 1.0, 'S&P 500 PACF')"
      ]
     },
     "execution_count": 12,
     "metadata": {},
     "output_type": "execute_result"
    },
    {
     "data": {
      "image/png": "[encoded data removed]",
      "text/plain": [
       "<Figure size 432x288 with 1 Axes>"
      ]
     },
     "metadata": {
      "needs_background": "light"
     },
     "output_type": "display_data"
    }
   ],
   "source": [
    "# Plotting PACF\n",
    "x_acf = pd.DataFrame(pacf(sp500.price))\n",
    "x_acf.plot(kind='bar')\n",
    "plt.title(\"S&P 500 PACF\")"
   ]
  },
  {
   "cell_type": "markdown",
   "id": "c884e946",
   "metadata": {},
   "source": [
    "There seems to have one strong autocorrelation (the first two bars)"
   ]
  },
  {
   "cell_type": "code",
   "execution_count": 13,
   "id": "4a202627",
   "metadata": {},
   "outputs": [
    {
     "data": {
      "text/plain": [
       "<matplotlib.legend.Legend at 0x296e6713d00>"
      ]
     },
     "execution_count": 13,
     "metadata": {},
     "output_type": "execute_result"
    },
    {
     "data": {
      "image/png": "[encoded data removed]",
      "text/plain": [
       "<Figure size 432x288 with 1 Axes>"
      ]
     },
     "metadata": {
      "needs_background": "light"
     },
     "output_type": "display_data"
    }
   ],
   "source": [
    "# pacf with the differences with prices\n",
    "x_acf = pd.DataFrame(pacf(sp500.diff_1[1:]))\n",
    "x_acf.plot(kind='bar')\n",
    "plt.title(\"S&P 500 Difference PACF\")\n",
    "plt.legend(['Difference'])"
   ]
  },
  {
   "cell_type": "markdown",
   "id": "e589a096",
   "metadata": {},
   "source": [
    "Differences in the time series showed no autocorrelation."
   ]
  },
  {
   "cell_type": "markdown",
   "id": "e9605756",
   "metadata": {},
   "source": [
    "## 5. Building models (ARIMA)"
   ]
  },
  {
   "cell_type": "markdown",
   "id": "35cc9b1b",
   "metadata": {},
   "source": [
    "AR = Past value<br>\n",
    "I = Level of differencing<br>\n",
    "MA = Adjusting to past errors"
   ]
  },
  {
   "cell_type": "markdown",
   "id": "54e55199",
   "metadata": {},
   "source": [
    "### 5.1 Grid search hyperparameters of ARIMA"
   ]
  },
  {
   "cell_type": "code",
   "execution_count": 27,
   "id": "65b64883",
   "metadata": {},
   "outputs": [
    {
     "name": "stdout",
     "output_type": "stream",
     "text": [
      "ARIMA(0, 0, 0) RMSE= 1420.202\n",
      "ARIMA(0, 0, 1) RMSE= 725.641\n",
      "ARIMA(0, 1, 0) RMSE= 48.121\n",
      "ARIMA(0, 1, 1) RMSE= 47.434\n",
      "ARIMA(1, 0, 0) RMSE= 48.154\n",
      "ARIMA(1, 0, 1) RMSE= 47.480\n",
      "ARIMA(1, 1, 0) RMSE= 47.302\n",
      "ARIMA(1, 1, 1) RMSE= 47.338\n",
      "ARIMA(2, 0, 0) RMSE= 47.331\n",
      "ARIMA(2, 0, 1) RMSE= 47.415\n",
      "ARIMA(2, 1, 0) RMSE= 47.325\n",
      "ARIMA(2, 1, 1) RMSE= 47.560\n",
      "ARIMA(4, 0, 0) RMSE= 81841081.553\n",
      "ARIMA(4, 0, 1) RMSE= 46.883\n",
      "ARIMA(4, 1, 0) RMSE= 47.622\n",
      "ARIMA(4, 1, 1) RMSE= 234.222\n",
      "Best ARIMA(4, 0, 1) RMSE = 46.883\n"
     ]
    }
   ],
   "source": [
    "def tune_ARIMA(X, arima_order):\n",
    "    # prepare training data\n",
    "    train_data_size = int(len(X)*0.80)\n",
    "    train, test = X[0:train_data_size], X[train_data_size:]\n",
    "    history = [x for x in train]\n",
    "    # making prediction\n",
    "    predictions = list()\n",
    "    for t in range(len(test)):\n",
    "        model = ARIMA(history, order = arima_order)\n",
    "        model_fit = model.fit()\n",
    "        yhat = model_fit.forecast()[0] \n",
    "        predictions.append(yhat)\n",
    "        history.append(test[t])\n",
    "    # calculate out of sample error\n",
    "    rmse = sqrt(mean_squared_error(test, predictions))\n",
    "    return rmse\n",
    "# evaluating combinations of p, d and q\n",
    "def evaluate_models(dataset, p_values, d_values, q_values):\n",
    "    dataset = dataset.astype('float32')\n",
    "    best_score, best_cfg = float('inf'), None \n",
    "    for p in p_values:\n",
    "        for d in d_values:\n",
    "            for q in q_values:\n",
    "                order = (p,d,q)\n",
    "                try:\n",
    "                    rmse = tune_ARIMA(dataset, order)\n",
    "                    if rmse < best_score:\n",
    "                        best_score, best_cfg = rmse, order\n",
    "                    print('ARIMA%s RMSE= %.3f' %(order, rmse))\n",
    "                except:\n",
    "                    continue\n",
    "    print('Best ARIMA%s RMSE = %.3f' %(best_cfg, best_score))\n",
    "#load dataset\n",
    "series = sp500.price\n",
    "p_values = [0,1,2,4]\n",
    "d_values = range(0,2) \n",
    "q_values = range(0,2) \n",
    "evaluate_models(series.values, p_values, d_values, q_values)"
   ]
  },
  {
   "cell_type": "markdown",
   "id": "fe1812e8",
   "metadata": {},
   "source": [
    "ARIMA(0, 0, 0) RMSE= 1420.202<br>\n",
    "ARIMA(0, 0, 1) RMSE= 725.641<br>\n",
    "ARIMA(0, 1, 0) RMSE= 48.121<br>\n",
    "ARIMA(0, 1, 1) RMSE= 47.434<br>\n",
    "ARIMA(1, 0, 0) RMSE= 48.154<br>\n",
    "ARIMA(1, 0, 1) RMSE= 47.480<br>\n",
    "ARIMA(1, 1, 0) RMSE= 47.302<br>\n",
    "ARIMA(1, 1, 1) RMSE= 47.338<br>\n",
    "ARIMA(2, 0, 0) RMSE= 47.331<br>\n",
    "ARIMA(2, 0, 1) RMSE= 47.415<br>\n",
    "ARIMA(2, 1, 0) RMSE= 47.325<br>\n",
    "ARIMA(2, 1, 1) RMSE= 47.560<br>\n",
    "ARIMA(4, 0, 0) RMSE= 81841081.553<br>\n",
    "ARIMA(4, 0, 1) RMSE= 46.883<br>\n",
    "ARIMA(4, 1, 0) RMSE= 47.622<br>\n",
    "ARIMA(4, 1, 1) RMSE= 234.222<br>\n",
    "Best ARIMA(4, 0, 1) RMSE = 46.883<br>"
   ]
  },
  {
   "cell_type": "markdown",
   "id": "8293707a",
   "metadata": {},
   "source": [
    "### 5.2 ARIMA Model comparision"
   ]
  },
  {
   "cell_type": "code",
   "execution_count": 35,
   "id": "d99d2080",
   "metadata": {},
   "outputs": [
    {
     "name": "stdout",
     "output_type": "stream",
     "text": [
      "                              ARMA Model Results                              \n",
      "==============================================================================\n",
      "Dep. Variable:                  price   No. Observations:                 2516\n",
      "Model:                     ARMA(0, 1)   Log Likelihood              -18612.386\n",
      "Method:                       css-mle   S.D. of innovations            394.638\n",
      "Date:                Fri, 08 Oct 2021   AIC                          37230.771\n",
      "Time:                        21:27:08   BIC                          37248.263\n",
      "Sample:                             0   HQIC                         37237.119\n",
      "                                                                              \n",
      "===============================================================================\n",
      "                  coef    std err          z      P>|z|      [0.025      0.975]\n",
      "-------------------------------------------------------------------------------\n",
      "const        2391.7907     15.616    153.160      0.000    2361.183    2422.398\n",
      "ma.L1.price     0.9853      0.002    402.159      0.000       0.980       0.990\n",
      "                                    Roots                                    \n",
      "=============================================================================\n",
      "                  Real          Imaginary           Modulus         Frequency\n",
      "-----------------------------------------------------------------------------\n",
      "MA.1           -1.0150           +0.0000j            1.0150            0.5000\n",
      "-----------------------------------------------------------------------------\n",
      "Residuals Description\n",
      "count    2516.000000\n",
      "mean       -0.295624\n",
      "std       395.614775\n",
      "min     -1236.290656\n",
      "25%      -270.170475\n",
      "50%       -81.220534\n",
      "75%       228.472106\n",
      "max      1241.535555\n",
      "dtype: float64\n"
     ]
    }
   ],
   "source": [
    "\n",
    "model = ARIMA(sp500.price, order =(0,0,1))\n",
    "model_fit = model.fit() \n",
    "print(model_fit.summary())\n",
    "print('Residuals Description')\n",
    "print(model_fit.resid.describe())"
   ]
  },
  {
   "cell_type": "code",
   "execution_count": 28,
   "id": "c4ce80d9",
   "metadata": {},
   "outputs": [
    {
     "name": "stdout",
     "output_type": "stream",
     "text": [
      "                               SARIMAX Results                                \n",
      "==============================================================================\n",
      "Dep. Variable:                  price   No. Observations:                 2516\n",
      "Model:                 ARIMA(1, 0, 1)   Log Likelihood              -11822.182\n",
      "Date:                Tue, 12 Oct 2021   AIC                          23652.365\n",
      "Time:                        02:10:51   BIC                          23675.686\n",
      "Sample:                             0   HQIC                         23660.829\n",
      "                               - 2516                                         \n",
      "Covariance Type:                  opg                                         \n",
      "==============================================================================\n",
      "                 coef    std err          z      P>|z|      [0.025      0.975]\n",
      "------------------------------------------------------------------------------\n",
      "const       2391.8086   2373.259      1.008      0.314   -2259.694    7043.311\n",
      "ar.L1          0.9999      0.001   1513.546      0.000       0.999       1.001\n",
      "ma.L1         -0.1438      0.007    -21.052      0.000      -0.157      -0.130\n",
      "sigma2       703.8247      6.142    114.592      0.000     691.787     715.863\n",
      "===================================================================================\n",
      "Ljung-Box (L1) (Q):                   1.01   Jarque-Bera (JB):             46191.88\n",
      "Prob(Q):                              0.32   Prob(JB):                         0.00\n",
      "Heteroskedasticity (H):               9.06   Skew:                            -1.47\n",
      "Prob(H) (two-sided):                  0.00   Kurtosis:                        23.79\n",
      "===================================================================================\n",
      "\n",
      "Warnings:\n",
      "[1] Covariance matrix calculated using the outer product of gradients (complex-step).\n",
      "Residuals Description\n",
      "count    2516.000000\n",
      "mean        0.996139\n",
      "std        36.203008\n",
      "min     -1236.308557\n",
      "25%        -6.908632\n",
      "50%         2.032648\n",
      "75%        12.229144\n",
      "max       197.994018\n",
      "dtype: float64\n"
     ]
    }
   ],
   "source": [
    "model_101 = ARIMA(sp500.price, order =(1,0,1))\n",
    "model_101_fit = model_101.fit() \n",
    "print(model_101_fit.summary())\n",
    "print('Residuals Description')\n",
    "print(model_101_fit.resid.describe())"
   ]
  },
  {
   "cell_type": "code",
   "execution_count": 27,
   "id": "74891085",
   "metadata": {},
   "outputs": [
    {
     "name": "stdout",
     "output_type": "stream",
     "text": [
      "                               SARIMAX Results                                \n",
      "==============================================================================\n",
      "Dep. Variable:                  price   No. Observations:                 2516\n",
      "Model:                 ARIMA(1, 1, 0)   Log Likelihood              -11806.776\n",
      "Date:                Tue, 12 Oct 2021   AIC                          23617.552\n",
      "Time:                        02:06:39   BIC                          23629.213\n",
      "Sample:                             0   HQIC                         23621.784\n",
      "                               - 2516                                         \n",
      "Covariance Type:                  opg                                         \n",
      "==============================================================================\n",
      "                 coef    std err          z      P>|z|      [0.025      0.975]\n",
      "------------------------------------------------------------------------------\n",
      "ar.L1         -0.1733      0.006    -27.483      0.000      -0.186      -0.161\n",
      "sigma2       699.7582      6.106    114.594      0.000     687.790     711.727\n",
      "===================================================================================\n",
      "Ljung-Box (L1) (Q):                   0.43   Jarque-Bera (JB):             43597.95\n",
      "Prob(Q):                              0.51   Prob(JB):                         0.00\n",
      "Heteroskedasticity (H):               8.92   Skew:                            -1.46\n",
      "Prob(H) (two-sided):                  0.00   Kurtosis:                        23.19\n",
      "===================================================================================\n",
      "\n",
      "Warnings:\n",
      "[1] Covariance matrix calculated using the outer product of gradients (complex-step).\n",
      "Residuals Description\n",
      "count    2516.000000\n",
      "mean        1.954139\n",
      "std        35.030944\n",
      "min      -285.200939\n",
      "25%        -6.900585\n",
      "50%         2.092740\n",
      "75%        12.221370\n",
      "max      1155.500000\n",
      "dtype: float64\n"
     ]
    }
   ],
   "source": [
    "model_110 = ARIMA(sp500.price, order =(1,1,0))\n",
    "model_110_fit = model_110.fit() \n",
    "print(model_110_fit.summary())\n",
    "print('Residuals Description')\n",
    "print(model_110_fit.resid.describe())"
   ]
  },
  {
   "cell_type": "code",
   "execution_count": 16,
   "id": "247b8c0c",
   "metadata": {},
   "outputs": [
    {
     "data": {
      "text/plain": [
       "Text(0.5, 1.0, 'Histogram of Residuals')"
      ]
     },
     "execution_count": 16,
     "metadata": {},
     "output_type": "execute_result"
    },
    {
     "data": {
      "image/png": "[encoded data removed]",
      "text/plain": [
       "<Figure size 432x288 with 1 Axes>"
      ]
     },
     "metadata": {
      "needs_background": "light"
     },
     "output_type": "display_data"
    },
    {
     "data": {
      "image/png": "[encoded data removed]",
      "text/plain": [
       "<Figure size 432x288 with 1 Axes>"
      ]
     },
     "metadata": {
      "needs_background": "light"
     },
     "output_type": "display_data"
    }
   ],
   "source": [
    "# plotting residuals\n",
    "residuals = pd.DataFrame(model_110_fit.resid)\n",
    "\n",
    "residuals.plot(legend=False)\n",
    "plt.title('Time Series of Residuals')\n",
    "\n",
    "residuals.hist(bins=20)\n",
    "plt.title('Histogram of Residuals')"
   ]
  },
  {
   "cell_type": "code",
   "execution_count": 26,
   "id": "b1667814",
   "metadata": {},
   "outputs": [
    {
     "name": "stdout",
     "output_type": "stream",
     "text": [
      "                               SARIMAX Results                                \n",
      "==============================================================================\n",
      "Dep. Variable:                  price   No. Observations:                 2516\n",
      "Model:                 ARIMA(1, 1, 1)   Log Likelihood              -11800.111\n",
      "Date:                Tue, 12 Oct 2021   AIC                          23606.221\n",
      "Time:                        02:06:05   BIC                          23623.711\n",
      "Sample:                             0   HQIC                         23612.569\n",
      "                               - 2516                                         \n",
      "Covariance Type:                  opg                                         \n",
      "==============================================================================\n",
      "                 coef    std err          z      P>|z|      [0.025      0.975]\n",
      "------------------------------------------------------------------------------\n",
      "ar.L1         -0.4473      0.028    -15.695      0.000      -0.503      -0.391\n",
      "ma.L1          0.2766      0.031      8.877      0.000       0.216       0.338\n",
      "sigma2       696.3640      6.180    112.673      0.000     684.251     708.477\n",
      "===================================================================================\n",
      "Ljung-Box (L1) (Q):                   0.21   Jarque-Bera (JB):             43509.30\n",
      "Prob(Q):                              0.65   Prob(JB):                         0.00\n",
      "Heteroskedasticity (H):               8.81   Skew:                            -1.39\n",
      "Prob(H) (two-sided):                  0.00   Kurtosis:                        23.19\n",
      "===================================================================================\n",
      "\n",
      "Warnings:\n",
      "[1] Covariance matrix calculated using the outer product of gradients (complex-step).\n",
      "Residuals Description\n",
      "count    2516.000000\n",
      "mean        1.905011\n",
      "std        34.980804\n",
      "min      -294.149531\n",
      "25%        -6.986040\n",
      "50%         1.967441\n",
      "75%        12.017079\n",
      "max      1155.500000\n",
      "dtype: float64\n"
     ]
    }
   ],
   "source": [
    "model_111 = ARIMA(sp500.price, order =(1,1,1))\n",
    "model_111_fit = model_111.fit() \n",
    "print(model_111_fit.summary())\n",
    "print('Residuals Description')\n",
    "print(model_111_fit.resid.describe())"
   ]
  },
  {
   "cell_type": "code",
   "execution_count": 21,
   "id": "f6e41d00",
   "metadata": {},
   "outputs": [
    {
     "data": {
      "text/plain": [
       "Text(0.5, 1.0, 'Histogram of Residuals')"
      ]
     },
     "execution_count": 21,
     "metadata": {},
     "output_type": "execute_result"
    },
    {
     "data": {
      "image/png": "[encoded data removed]",
      "text/plain": [
       "<Figure size 432x288 with 1 Axes>"
      ]
     },
     "metadata": {
      "needs_background": "light"
     },
     "output_type": "display_data"
    },
    {
     "data": {
      "image/png": "[encoded data removed]",
      "text/plain": [
       "<Figure size 432x288 with 1 Axes>"
      ]
     },
     "metadata": {
      "needs_background": "light"
     },
     "output_type": "display_data"
    }
   ],
   "source": [
    "# plotting residuals 111\n",
    "residuals = pd.DataFrame(model_111_fit.resid)\n",
    "\n",
    "residuals.plot(legend=False)\n",
    "plt.title('Time Series of Residuals')\n",
    "\n",
    "residuals.hist(bins=20)\n",
    "plt.title('Histogram of Residuals')"
   ]
  },
  {
   "cell_type": "markdown",
   "id": "cfb54a44",
   "metadata": {},
   "source": [
    "There is no clear trend in residuals. <br>\n",
    "Residuals are approximate a normal distribution. <br>\n"
   ]
  },
  {
   "cell_type": "code",
   "execution_count": 25,
   "id": "7b12e0fb",
   "metadata": {},
   "outputs": [
    {
     "name": "stdout",
     "output_type": "stream",
     "text": [
      "                               SARIMAX Results                                \n",
      "==============================================================================\n",
      "Dep. Variable:                  price   No. Observations:                 2516\n",
      "Model:                 ARIMA(1, 1, 4)   Log Likelihood              -11766.042\n",
      "Date:                Tue, 12 Oct 2021   AIC                          23544.084\n",
      "Time:                        02:04:15   BIC                          23579.065\n",
      "Sample:                             0   HQIC                         23556.780\n",
      "                               - 2516                                         \n",
      "Covariance Type:                  opg                                         \n",
      "==============================================================================\n",
      "                 coef    std err          z      P>|z|      [0.025      0.975]\n",
      "------------------------------------------------------------------------------\n",
      "ar.L1         -0.8096      0.022    -36.085      0.000      -0.854      -0.766\n",
      "ma.L1          0.6741      0.023     28.862      0.000       0.628       0.720\n",
      "ma.L2         -0.0186      0.010     -1.818      0.069      -0.039       0.001\n",
      "ma.L3          0.0923      0.010      9.204      0.000       0.073       0.112\n",
      "ma.L4         -0.0865      0.009     -9.369      0.000      -0.105      -0.068\n",
      "sigma2       677.7445      7.164     94.610      0.000     663.704     691.785\n",
      "===================================================================================\n",
      "Ljung-Box (L1) (Q):                   0.05   Jarque-Bera (JB):             28513.23\n",
      "Prob(Q):                              0.82   Prob(JB):                         0.00\n",
      "Heteroskedasticity (H):               8.32   Skew:                            -1.32\n",
      "Prob(H) (two-sided):                  0.00   Kurtosis:                        19.28\n",
      "===================================================================================\n",
      "\n",
      "Warnings:\n",
      "[1] Covariance matrix calculated using the outer product of gradients (complex-step).\n",
      "Residuals Description\n",
      "count    2516.000000\n",
      "mean        1.846295\n",
      "std        34.716681\n",
      "min      -270.779563\n",
      "25%        -7.271890\n",
      "50%         1.973993\n",
      "75%        12.174237\n",
      "max      1155.500000\n",
      "dtype: float64\n"
     ]
    }
   ],
   "source": [
    "model = ARIMA(sp500.price, order =(1,1,4))\n",
    "model_fit = model.fit() \n",
    "print(model_fit.summary())\n",
    "print('Residuals Description')\n",
    "print(model_fit.resid.describe())"
   ]
  },
  {
   "cell_type": "code",
   "execution_count": 24,
   "id": "a9c3777a",
   "metadata": {},
   "outputs": [
    {
     "name": "stdout",
     "output_type": "stream",
     "text": [
      "                               SARIMAX Results                                \n",
      "==============================================================================\n",
      "Dep. Variable:                  price   No. Observations:                 2516\n",
      "Model:                 ARIMA(4, 1, 4)   Log Likelihood              -11786.052\n",
      "Date:                Tue, 12 Oct 2021   AIC                          23590.104\n",
      "Time:                        02:03:47   BIC                          23642.574\n",
      "Sample:                             0   HQIC                         23609.147\n",
      "                               - 2516                                         \n",
      "Covariance Type:                  opg                                         \n",
      "==============================================================================\n",
      "                 coef    std err          z      P>|z|      [0.025      0.975]\n",
      "------------------------------------------------------------------------------\n",
      "ar.L1         -0.1504      0.043     -3.535      0.000      -0.234      -0.067\n",
      "ar.L2          0.5077      0.066      7.661      0.000       0.378       0.638\n",
      "ar.L3         -0.5980      0.064     -9.307      0.000      -0.724      -0.472\n",
      "ar.L4         -0.2697      0.048     -5.566      0.000      -0.365      -0.175\n",
      "ma.L1         -0.0091      0.048     -0.191      0.848      -0.103       0.085\n",
      "ma.L2         -0.4179      0.065     -6.381      0.000      -0.546      -0.290\n",
      "ma.L3          0.6692      0.064     10.527      0.000       0.545       0.794\n",
      "ma.L4          0.0781      0.048      1.629      0.103      -0.016       0.172\n",
      "sigma2       688.1273     12.340     55.763      0.000     663.941     712.314\n",
      "===================================================================================\n",
      "Ljung-Box (L1) (Q):                   0.01   Jarque-Bera (JB):             40934.56\n",
      "Prob(Q):                              0.93   Prob(JB):                         0.00\n",
      "Heteroskedasticity (H):               8.69   Skew:                            -1.43\n",
      "Prob(H) (two-sided):                  0.00   Kurtosis:                        22.56\n",
      "===================================================================================\n",
      "\n",
      "Warnings:\n",
      "[1] Covariance matrix calculated using the outer product of gradients (complex-step).\n",
      "Residuals Description\n",
      "count    2516.000000\n",
      "mean        1.915971\n",
      "std        34.865876\n",
      "min      -299.116735\n",
      "25%        -7.353347\n",
      "50%         2.005679\n",
      "75%        12.209184\n",
      "max      1155.500000\n",
      "dtype: float64\n"
     ]
    }
   ],
   "source": [
    "model = ARIMA(sp500.price, order =(4,1,4))\n",
    "model_fit = model.fit() \n",
    "print(model_fit.summary())\n",
    "print('Residuals Description')\n",
    "print(model_fit.resid.describe())"
   ]
  },
  {
   "cell_type": "markdown",
   "id": "b3f310f5",
   "metadata": {},
   "source": [
    "(4,1,4)= Residuals are not independent L-Box is < 0.05"
   ]
  },
  {
   "cell_type": "code",
   "execution_count": 22,
   "id": "edf59bc9",
   "metadata": {},
   "outputs": [
    {
     "name": "stdout",
     "output_type": "stream",
     "text": [
      "                               SARIMAX Results                                \n",
      "==============================================================================\n",
      "Dep. Variable:                  price   No. Observations:                 2516\n",
      "Model:                 ARIMA(1, 0, 0)   Log Likelihood              -11853.831\n",
      "Date:                Tue, 12 Oct 2021   AIC                          23713.662\n",
      "Time:                        02:01:26   BIC                          23731.153\n",
      "Sample:                             0   HQIC                         23720.010\n",
      "                               - 2516                                         \n",
      "Covariance Type:                  opg                                         \n",
      "==============================================================================\n",
      "                 coef    std err          z      P>|z|      [0.025      0.975]\n",
      "------------------------------------------------------------------------------\n",
      "const       2391.9224    905.326      2.642      0.008     617.516    4166.329\n",
      "ar.L1          0.9997      0.001   1491.657      0.000       0.998       1.001\n",
      "sigma2       721.8406      6.001    120.291      0.000     710.079     733.602\n",
      "===================================================================================\n",
      "Ljung-Box (L1) (Q):                  77.88   Jarque-Bera (JB):             53895.75\n",
      "Prob(Q):                              0.00   Prob(JB):                         0.00\n",
      "Heteroskedasticity (H):               9.53   Skew:                            -1.19\n",
      "Prob(H) (two-sided):                  0.00   Kurtosis:                        25.55\n",
      "===================================================================================\n",
      "\n",
      "Warnings:\n",
      "[1] Covariance matrix calculated using the outer product of gradients (complex-step).\n",
      "Residuals Description\n",
      "count    2516.000000\n",
      "mean        0.783396\n",
      "std        36.456752\n",
      "min     -1236.422399\n",
      "25%        -7.100676\n",
      "50%         1.391369\n",
      "75%        11.408258\n",
      "max       230.425261\n",
      "dtype: float64\n"
     ]
    }
   ],
   "source": [
    "model_401 = ARIMA(sp500.price, order =(4,0,1))\n",
    "model_401_fit = model.fit() \n",
    "print(model_401_fit.summary())\n",
    "print('Residuals Description')\n",
    "print(model_fit.resid.describe())"
   ]
  },
  {
   "cell_type": "code",
   "execution_count": 23,
   "id": "8abeec19",
   "metadata": {},
   "outputs": [
    {
     "data": {
      "text/plain": [
       "Text(0.5, 1.0, 'Histogram of Residuals')"
      ]
     },
     "execution_count": 23,
     "metadata": {},
     "output_type": "execute_result"
    },
    {
     "data": {
      "image/png": "[encoded data removed]",
      "text/plain": [
       "<Figure size 432x288 with 1 Axes>"
      ]
     },
     "metadata": {
      "needs_background": "light"
     },
     "output_type": "display_data"
    },
    {
     "data": {
      "image/png": "[encoded data removed]",
      "text/plain": [
       "<Figure size 432x288 with 1 Axes>"
      ]
     },
     "metadata": {
      "needs_background": "light"
     },
     "output_type": "display_data"
    }
   ],
   "source": [
    "# plotting residuals\n",
    "residuals = pd.DataFrame(model_401_fit.resid)\n",
    "\n",
    "residuals.plot(legend=False)\n",
    "plt.title('Time Series of Residuals(4,0,1)')\n",
    "\n",
    "residuals.hist(bins=20)\n",
    "plt.title('Histogram of Residuals')"
   ]
  },
  {
   "cell_type": "code",
   "execution_count": null,
   "id": "188df6d7",
   "metadata": {},
   "outputs": [],
   "source": []
  }
 ],
 "metadata": {
  "kernelspec": {
   "display_name": "Python 3",
   "language": "python",
   "name": "python3"
  },
  "language_info": {
   "codemirror_mode": {
    "name": "ipython",
    "version": 3
   },
   "file_extension": ".py",
   "mimetype": "text/x-python",
   "name": "python",
   "nbconvert_exporter": "python",
   "pygments_lexer": "ipython3",
   "version": "3.8.8"
  },
  "toc": {
   "base_numbering": 1,
   "nav_menu": {},
   "number_sections": false,
   "sideBar": true,
   "skip_h1_title": false,
   "title_cell": "Table of Contents",
   "title_sidebar": "Contents",
   "toc_cell": false,
   "toc_position": {
    "height": "calc(100% - 180px)",
    "left": "10px",
    "top": "150px",
    "width": "230.267px"
   },
   "toc_section_display": true,
   "toc_window_display": true
  }
 },
 "nbformat": 4,
 "nbformat_minor": 5
}
